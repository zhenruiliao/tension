{
  "nbformat": 4,
  "nbformat_minor": 0,
  "metadata": {
    "colab": {
      "name": "FORCE learning - bit.ipynb",
      "provenance": [],
      "collapsed_sections": []
    },
    "kernelspec": {
      "display_name": "Python 3",
      "language": "python",
      "name": "python3"
    }
  },
  "cells": [
    {
      "cell_type": "markdown",
      "metadata": {
        "id": "M43YMDGnSKoa"
      },
      "source": [
        "# FORCE Learning"
      ]
    },
    {
      "cell_type": "code",
      "metadata": {
        "colab": {
          "base_uri": "https://localhost:8080/"
        },
        "id": "DKWB6NrYSD-W",
        "outputId": "5343c451-18f6-427c-8be7-8e1b9788171b"
      },
      "source": [
        "!pip install --upgrade -q https://storage.googleapis.com/jax-wheels/cuda$(echo $CUDA_VERSION | sed -e 's/\\.//' -e 's/\\..*//')/jaxlib-0.1.8-cp36-none-linux_x86_64.whl\n",
        "!pip install --upgrade -q jax"
      ],
      "execution_count": 1,
      "outputs": [
        {
          "output_type": "stream",
          "text": [
            "\u001b[31mERROR: jaxlib-0.1.8-cp36-none-linux_x86_64.whl is not a supported wheel on this platform.\u001b[0m\n",
            "\u001b[K     |████████████████████████████████| 708 kB 29.6 MB/s \n",
            "\u001b[?25h  Building wheel for jax (setup.py) ... \u001b[?25l\u001b[?25hdone\n"
          ],
          "name": "stdout"
        }
      ]
    },
    {
      "cell_type": "markdown",
      "metadata": {
        "id": "fcxEC8gRzl6V"
      },
      "source": [
        "### Import some packages"
      ]
    },
    {
      "cell_type": "code",
      "metadata": {
        "id": "2lQQBbkVSCif"
      },
      "source": [
        "from jax import random"
      ],
      "execution_count": 2,
      "outputs": []
    },
    {
      "cell_type": "code",
      "metadata": {
        "colab": {
          "base_uri": "https://localhost:8080/"
        },
        "id": "DORhgNUqEZD5",
        "outputId": "cd5c875b-a1c3-48f4-f56a-f8ab5c6006f8"
      },
      "source": [
        "import matplotlib.pyplot as plt\n",
        "\n",
        "import numpy as np\n",
        "import tensorflow as tf\n",
        "\n",
        "import tensorflow.keras as keras\n",
        "from tensorflow.keras import backend, activations\n",
        " \n",
        "print(tf.__version__)"
      ],
      "execution_count": 3,
      "outputs": [
        {
          "output_type": "stream",
          "text": [
            "2.5.0\n"
          ],
          "name": "stdout"
        }
      ]
    },
    {
      "cell_type": "code",
      "metadata": {
        "id": "KW--DmJFJXkn"
      },
      "source": [
        "T = 1.2            # total time\n",
        "u = 2               # number of inputs (didn't bother to set up zero, just put in zeros)\n",
        "n = 250            # size of the reservoir in the ESN\n",
        "tau = 0.02         # neuron time constant\n",
        "dt = tau / 10.0     # Euler integration step\n",
        "time = np.arange(0, T, dt) # all time\n",
        "ntime = time.shape[0]      # the number of time steps\n",
        "\n",
        "x_t = np.zeros((ntime,u)) # Just a stand-in in folks want a real input later\n",
        "indices = np.random.choice(x_t.shape[0] *x_t.shape[1], replace=False,\n",
        "                           size=int(x_t.shape[0] *x_t.shape[1]*0.025))\n",
        "x_t[np.unravel_index(indices, x_t.shape)] = 0.375\n",
        "\n",
        "for i in range(x_t.shape[0]):\n",
        "  if np.sum(x_t[i-10:i,:]) > 0:\n",
        "    x_t [i,:] = 0\n",
        "\n",
        "g = 1.5  # Lower g value was shown to be good in the paper for training.\n",
        "m = 1\n",
        "alpha = 1e0 # Initial learning rate for RLS\n",
        "dtdivtau = dt / tau\n",
        "\n",
        "input1 = tf.cast(tf.expand_dims(x_t,0),np.float32)\n",
        "\n"
      ],
      "execution_count": 4,
      "outputs": []
    },
    {
      "cell_type": "code",
      "metadata": {
        "id": "xLcAV3Fvs-2t"
      },
      "source": [
        "from scipy.signal import butter,filtfilt, lfilter, sosfilt\n",
        "\n",
        "cutoff = 3\n",
        "fs = 30.0 \n",
        "nyq = 0.5 * fs\n",
        "order = 2\n",
        "\n",
        "def butter_lowpass_filter(data, cutoff, fs, order):\n",
        "    normal_cutoff = cutoff / nyq\n",
        "    # Get the filter coefficients \n",
        "    sos = butter(order, normal_cutoff, btype='low', analog=False, output='sos')\n",
        "    y = sosfilt(sos, data)\n",
        "    # b, a = butter(order, normal_cutoff, btype='low', analog=False, output='ba')\n",
        "    # y = lfilter(b, a, data)\n",
        "    return y"
      ],
      "execution_count": 5,
      "outputs": []
    },
    {
      "cell_type": "code",
      "metadata": {
        "id": "IXNcXZNZWJg9"
      },
      "source": [
        "f_t_1 = np.zeros((x_t.shape[0],1))-1\n",
        "\n",
        "def func(f_t_1, x_t):\n",
        "  for i in range(1,x_t.shape[0]):\n",
        "    if np.sum(x_t[i,:]) == 0 or np.sum(x_t[i,:]) == 0.375*2:\n",
        "      f_t_1[i,0] = f_t_1[i-1,0] \n",
        "    elif x_t[i,0] == 0.375:\n",
        "      f_t_1[i,0] = min(f_t_1[i-1,0] + 2, 1)\n",
        "    elif x_t[i,1] == 0.375:\n",
        "      f_t_1[i,0] = max(f_t_1[i-1,0] - 2, -1)\n",
        "  return f_t_1\n",
        "f_t_1 =  func(f_t_1, x_t) \n",
        "f_t_1[:,0] = butter_lowpass_filter(f_t_1[:,0], cutoff, fs, order)\n",
        "f_t_1 = tf.cast(f_t_1,np.float32)"
      ],
      "execution_count": 6,
      "outputs": []
    },
    {
      "cell_type": "code",
      "metadata": {
        "colab": {
          "base_uri": "https://localhost:8080/",
          "height": 391
        },
        "id": "7ATpEMu4UUwQ",
        "outputId": "a72828ab-0fd4-48ba-ca13-dcc88046a2b3"
      },
      "source": [
        "f, (ax0, ax1, ax2) = plt.subplots(nrows = 3, sharex = True,figsize = (18,6))\n",
        "\n",
        "ax0.plot(f_t_1[:,0])\n",
        "ax1.plot(x_t[:,0])\n",
        "ax2.plot(x_t[:,1])"
      ],
      "execution_count": 7,
      "outputs": [
        {
          "output_type": "execute_result",
          "data": {
            "text/plain": [
              "[<matplotlib.lines.Line2D at 0x7f0df9fb1550>]"
            ]
          },
          "metadata": {
            "tags": []
          },
          "execution_count": 7
        },
        {
          "output_type": "display_data",
          "data": {
            "image/png": "[encoded data removed]",
            "text/plain": [
              "<Figure size 1296x432 with 3 Axes>"
            ]
          },
          "metadata": {
            "tags": [],
            "needs_background": "light"
          }
        }
      ]
    },
    {
      "cell_type": "code",
      "metadata": {
        "id": "zA9SiEthSCpv"
      },
      "source": [
        "# Generate randomness\n",
        "\n",
        "def keygen(key, nkeys):\n",
        "  \"\"\"Generate randomness that JAX can use by splitting the JAX keys.\n",
        "  Args:\n",
        "    key : the random.PRNGKey for JAX\n",
        "    nkeys : how many keys in key generator\n",
        "  Returns:\n",
        "    2-tuple (new key for further generators, key generator)\n",
        "  \"\"\"\n",
        "  keys = random.split(key, nkeys+1)\n",
        "  return keys[0], (k for k in keys[1:])"
      ],
      "execution_count": 8,
      "outputs": []
    },
    {
      "cell_type": "code",
      "metadata": {
        "id": "mU5Nx6LLSCtA"
      },
      "source": [
        "def random_esn_params(key, u, n, m, tau=1.0, dt=0.1, g=1.0):\n",
        "  \"\"\"Generate random RNN parameters\n",
        "  \n",
        "  Arguments: \n",
        "    u: dim of the input\n",
        "    n: dim of the hidden state\n",
        "    m: dim of the output\n",
        "    tau: \"neuronal\" time constant\n",
        "    dt: time between Euler integration updates\n",
        "    g: scaling of the recurrent matrix in the reservoir\n",
        "\n",
        "  Returns:\n",
        "    A dictionary of parameters for the ESN.\n",
        "  \"\"\"\n",
        "\n",
        "  key, skeys = keygen(key, 5)\n",
        "  hscale = 0.25\n",
        "  ifactor = 1.0 / np.sqrt(u)\n",
        "  hfactor = g / np.sqrt(n)\n",
        "  pfactor = 1.0 / np.sqrt(n)\n",
        "  ffactor = 1.0 # Feedback factor, keep at 1 for now.\n",
        "  return {'a0' : random.normal(next(skeys), (n,)) * hscale,\n",
        "          'wI' : random.normal(next(skeys), (n,u)) * ifactor,\n",
        "          'wR' : random.normal(next(skeys), (n,n)) * hfactor,\n",
        "          'wO' : random.normal(next(skeys), (m,n)) * pfactor,\n",
        "          'wF' : random.normal(next(skeys), (n,m)) * ffactor,\n",
        "          'dt_over_tau' : dt / tau}"
      ],
      "execution_count": 9,
      "outputs": []
    },
    {
      "cell_type": "code",
      "metadata": {
        "id": "wcNQNrHUALWq"
      },
      "source": [
        "class FORCELayer(keras.layers.AbstractRNNCell):\n",
        "    def __init__(self, units, output_size, activation, seed = None, g = 1.5, \n",
        "                 input_kernel_trainable = False, recurrent_kernel_trainable = False, \n",
        "                 output_kernel_trainable = True, feedback_kernel_trainable = False, **kwargs):\n",
        "      \n",
        "        self.units = units \n",
        "        self.__output_size__ = output_size\n",
        "        self.activation = activations.get(activation)\n",
        "\n",
        "        if seed is None:\n",
        "          self.__seed_gen__ = tf.random.Generator.from_non_deterministic_state()\n",
        "        else:\n",
        "          self.__seed_gen__ = tf.random.Generator.from_seed(seed)\n",
        "        \n",
        "        self.__g__ = g\n",
        "\n",
        "        self.__input_kernel_trainable__ = input_kernel_trainable\n",
        "        self.__recurrent_kernel_trainable__ = recurrent_kernel_trainable\n",
        "        self.__feedback_kernel_trainable__ = feedback_kernel_trainable\n",
        "        self.__output_kernel_trainable__ = output_kernel_trainable\n",
        "\n",
        "        super().__init__(**kwargs)\n",
        "\n",
        "    @property\n",
        "    def state_size(self):\n",
        "        return [self.units, self.units, self.output_size]\n",
        "\n",
        "    @property \n",
        "    def output_size(self):\n",
        "        return self.__output_size__\n",
        "\n",
        "    def build(self, input_shape):\n",
        "\n",
        "        self.input_kernel = self.add_weight(shape=(input_shape[-1], self.units),\n",
        "          initializer=keras.initializers.RandomNormal(mean=0., \n",
        "                                                      stddev= 1/input_shape[-1]**0.5, \n",
        "                                                      seed=self.__seed_gen__.uniform([1], \n",
        "                                                                                 minval=None, \n",
        "                                                                                 dtype=tf.dtypes.int64)[0]),\n",
        "          trainable=self.__input_kernel_trainable__,\n",
        "          name='input_kernel')\n",
        " \n",
        "        self.recurrent_kernel = self.add_weight(\n",
        "          shape=(self.units, self.units),\n",
        "          initializer= keras.initializers.RandomNormal(mean=0., \n",
        "                                                       stddev= self.__g__/self.units**0.5, \n",
        "                                                       seed=self.__seed_gen__.uniform([1], \n",
        "                                                                                  minval=None, \n",
        "                                                                                  dtype=tf.dtypes.int64)[0]), \n",
        "          trainable=self.__recurrent_kernel_trainable__,\n",
        "          name='recurrent_kernel')\n",
        "        \n",
        "        self.feedback_kernel = self.add_weight(\n",
        "          shape=(self.output_size, self.units), \n",
        "          initializer=keras.initializers.RandomNormal(mean=0., \n",
        "                                                      stddev= 1, \n",
        "                                                      seed=self.__seed_gen__.uniform([1], \n",
        "                                                                                 minval=None, \n",
        "                                                                                 dtype=tf.dtypes.int64)[0]), \n",
        "          trainable=self.__feedback_kernel_trainable__,\n",
        "          name='feedback_kernel')\n",
        "        \n",
        "        self.output_kernel = self.add_weight(\n",
        "          shape=(self.units, self.output_size),\n",
        "          initializer=keras.initializers.RandomNormal(mean=0., \n",
        "                                                      stddev= 1/self.units**0.5, \n",
        "                                                      seed=self.__seed_gen__.uniform([1], \n",
        "                                                                                 minval=None, \n",
        "                                                                                 dtype=tf.dtypes.int64)[0]), \n",
        "          trainable=self.__output_kernel_trainable__,\n",
        "          name='output_kernel')      \n",
        "\n",
        "        self.built = True\n",
        "\n",
        "    @classmethod\n",
        "    def from_weights(cls, weights, **kwargs):\n",
        "        # Initialize the network from a list of weights (e.g., user-generated)\n",
        "        input_kernel, recurrent_kernel, feedback_kernel, output_kernel = weights \n",
        "        input_shape, input_units = input_kernel.shape \n",
        "        recurrent_units1, recurrent_units2 = recurrent_kernel.shape \n",
        "        feedback_output_size, feedback_units = feedback_kernel.shape \n",
        "        output_units, output_size = output_kernel.shape \n",
        "\n",
        "\n",
        "        units = input_units \n",
        "        assert np.all(np.array([input_units, recurrent_units1, recurrent_units2, \n",
        "                            feedback_units, output_units]) == units)\n",
        "\n",
        "        assert feedback_output_size == output_size \n",
        "\n",
        "        self = cls(units=units, output_size=output_size, **kwargs)\n",
        "\n",
        "        self.input_kernel = self.add_weight(shape=(input_shape, self.units),\n",
        "                                      initializer=keras.initializers.constant(input_kernel),\n",
        "                                      trainable = self.__input_kernel_trainable__,\n",
        "                                      name='input_kernel')\n",
        "        \n",
        "        self.recurrent_kernel = self.add_weight(\n",
        "            shape=(self.units, self.units),\n",
        "            initializer=keras.initializers.constant(recurrent_kernel),\n",
        "            trainable = self.__recurrent_kernel_trainable__,\n",
        "            name='recurrent_kernel')\n",
        "        \n",
        "        self.feedback_kernel = self.add_weight(\n",
        "            shape=(self.output_size, self.units),\n",
        "            initializer=keras.initializers.constant(feedback_kernel),\n",
        "            trainable = self.__feedback_kernel_trainable__,\n",
        "            name='feedback_kernel')\n",
        "        \n",
        "        self.output_kernel = self.add_weight(\n",
        "            shape=(self.units, self.output_size),\n",
        "            initializer=keras.initializers.constant(output_kernel),\n",
        "            trainable = self.__output_kernel_trainable__,\n",
        "            name='output_kernel')      \n",
        "\n",
        "        self.built = True\n",
        "\n",
        "        return self\n",
        "\n",
        "class FORCEModel(keras.Model):\n",
        "    def __init__(self, force_layer, alpha_P=1.,return_sequences=True):\n",
        "        super().__init__()\n",
        "        self.alpha_P = alpha_P\n",
        "        self.force_layer = keras.layers.RNN(force_layer, \n",
        "                                            stateful=True, \n",
        "                                            return_state=True, \n",
        "                                            return_sequences=return_sequences)\n",
        "\n",
        "        self.units = force_layer.units \n",
        "\n",
        "        self.__force_layer__ = force_layer\n",
        " \n",
        "\n",
        "    def build(self, input_shape):\n",
        "        self.P_output = self.add_weight(name='P_output', shape=(self.units, self.units), \n",
        "                                 initializer=keras.initializers.Identity(\n",
        "                                              gain=self.alpha_P), trainable=True)\n",
        "\n",
        "        super().build(input_shape)\n",
        "\n",
        "        if self.__force_layer__.recurrent_kernel.trainable:\n",
        "\n",
        "            identity_3d = np.zeros((self.units, self.units, self.units))\n",
        "            idx = np.arange(n)\n",
        "\n",
        "#################### \n",
        "\n",
        "            identity_3d[:, idx, idx] = self.alpha_P \n",
        "            I,J = np.nonzero(tf.transpose(self.__force_layer__.recurrent_kernel).numpy()==0)\n",
        "            identity_3d[I,:,J]=0\n",
        "            identity_3d[I,J,:]=0\n",
        "\n",
        "#################### \n",
        "# # new \n",
        "#          #  print('new')\n",
        "#             identity_3d[idx, idx, :] = self.alpha_P \n",
        "#             J,I = np.nonzero(self.__force_layer__.recurrent_kernel.numpy()==0)\n",
        "#             identity_3d[J,:,I]=0\n",
        "#             identity_3d[:,J,I]=0\n",
        "\n",
        "#################### \n",
        "\n",
        "            self.P_GG = self.add_weight(name='P_GG', shape=(self.units, self.units, self.units), \n",
        "                                    initializer=keras.initializers.constant(identity_3d), \n",
        "                                    trainable=True)\n",
        "\n",
        "        self.__output_kernel_idx__ = None\n",
        "        self.__recurrent_kernel_idx__ = None\n",
        "        for idx in range(len(self.trainable_variables)):\n",
        "          trainable_name = self.trainable_variables[idx].name\n",
        "              \n",
        "          if 'output_kernel' in trainable_name:\n",
        "            self.__output_kernel_idx__ = idx\n",
        "          elif 'P_output' in trainable_name:\n",
        "            self.__P_output_idx__ = idx\n",
        "          elif 'P_GG' in trainable_name:\n",
        "            self.__P_GG_idx__ = idx\n",
        "          elif 'recurrent_kernel' in trainable_name:\n",
        "            self.__recurrent_kernel_idx__ = idx\n",
        "\n",
        "\n",
        "    def call(self, x, training=False,   **kwargs):\n",
        "\n",
        "        if training:\n",
        "            return self.force_layer(x, **kwargs) \n",
        "        else:\n",
        "            initialization = all(v is None for v in self.force_layer.states)\n",
        "            \n",
        "            if not initialization:\n",
        "              original_state = [i.numpy() for i in self.force_layer.states]\n",
        "            output = self.force_layer(x, **kwargs)[0] \n",
        "\n",
        "            if not initialization:\n",
        "              self.force_layer.reset_states(states = original_state)\n",
        "            return output\n",
        "\n",
        "    def train_step(self, data):\n",
        "\n",
        "        x, y = data\n",
        "\n",
        "        if self.run_eagerly:\n",
        "          self.hidden_activation = []\n",
        "                \n",
        "        # self.__output_kernel_idx__ = None\n",
        "        # self.__recurrent_kernel_idx__ = None\n",
        "\n",
        "        for i in range(x.shape[1]):\n",
        "          z, _, h, _ = self(x[:,i:i+1,:], training=True)\n",
        "\n",
        "          if self.force_layer.return_sequences:\n",
        "            z = z[:,0,:]\n",
        "         \n",
        "          trainable_vars = self.trainable_variables\n",
        "\n",
        "          # for idx in range(len(trainable_vars)):\n",
        "          #   trainable_name = trainable_vars[idx].name\n",
        "              \n",
        "          #   if 'output_kernel' in trainable_name:\n",
        "          #     self.__output_kernel_idx__ = idx\n",
        "          #   elif 'P_output' in trainable_name:\n",
        "          #     self.__P_output_idx__ = idx\n",
        "          #   elif 'P_GG' in trainable_name:\n",
        "          #     self.__P_GG_idx__ = idx\n",
        "          #   elif 'recurrent_kernel' in trainable_name:\n",
        "          #     self.__recurrent_kernel_idx__ = idx\n",
        "\n",
        "          if self.__output_kernel_idx__ is not None:\n",
        "            # assert 'output_kernel' in trainable_vars[self.__output_kernel_idx__].name\n",
        "            # assert 'P_output' in trainable_vars[self.__P_output_idx__].name\n",
        "\n",
        "            # Compute pseudogradients\n",
        "            dP = self.__pseudogradient_P(h)\n",
        "            # Update weights\n",
        "            self.optimizer.apply_gradients(zip([dP], [trainable_vars[self.__P_output_idx__]]))\n",
        "\n",
        "            dwO = self.__pseudogradient_wO(h, z, y[:,i,:])\n",
        "            self.optimizer.apply_gradients(zip([dwO], [trainable_vars[self.__output_kernel_idx__]]))\n",
        "          \n",
        "          if self.__recurrent_kernel_idx__ is not None:\n",
        "\n",
        "            # assert 'recurrent_kernel' in trainable_vars[self.__recurrent_kernel_idx__].name\n",
        "            # assert 'P_GG' in trainable_vars[self.__P_GG_idx__].name\n",
        "\n",
        "            # Compute pseudogradients\n",
        "            dP_GG = self.__pseudogradient_P_Gx(self.P_GG, h)\n",
        "            # Update weights\n",
        "            self.optimizer.apply_gradients(zip([dP_GG], [trainable_vars[self.__P_GG_idx__]]))\n",
        "            dwR = self.__pseudogradient_wR(h, z, y[:,i,:])\n",
        "            self.optimizer.apply_gradients(zip([dwR], [trainable_vars[self.__recurrent_kernel_idx__]]))\n",
        "          \n",
        "        # Update metrics (includes the metric that tracks the loss)\n",
        "          self.compiled_metrics.update_state(y[:,i,:], z)\n",
        "        # Return a dict mapping metric names to current value\n",
        "\n",
        "          if self.run_eagerly:\n",
        "            self.hidden_activation.append(h.numpy()[0])\n",
        "\n",
        "        return {m.name: m.result() for m in self.metrics}\n",
        "\n",
        "    def __pseudogradient_P(self, h):\n",
        "        # Implements the training step i.e. the rls() function\n",
        "        # This not a real gradient (does not use gradient.tape())\n",
        "        # Computes the actual update\n",
        "        # Example array shapes\n",
        "        # h : 1 x 500\n",
        "        # P : 500 x 500 \n",
        "        # k : 500 x 1 \n",
        "        # hPht : 1 x 1\n",
        "        # dP : 500 x 500 \n",
        "\n",
        "\n",
        "        k = backend.dot(self.P_output, tf.transpose(h))\n",
        "        hPht = backend.dot(h, k)\n",
        "        c = 1./(1.+hPht)\n",
        "      #  assert c.shape == (1,1)\n",
        "        hP = backend.dot(h, self.P_output)\n",
        "        dP = backend.dot(c*k, hP)\n",
        "        \n",
        "        return  dP \n",
        "\n",
        "    def __pseudogradient_wO(self, h, z, y):\n",
        "        # z : 1 x 20 \n",
        "        # y : 1 x 20\n",
        "        # e : 1 x 20\n",
        "        # dwO : 500 x 20  \n",
        "\n",
        "        e = z-y\n",
        "        Ph = backend.dot(self.P_output, tf.transpose(h))\n",
        "        dwO = backend.dot(Ph, e)\n",
        "\n",
        "        return  dwO\n",
        "\n",
        "#################### \n",
        "\n",
        "    def __pseudogradient_wR(self, h, z, y):\n",
        "        e = z - y \n",
        "   #     assert e.shape == (1,1)\n",
        "        Ph = backend.dot(self.P_GG, tf.transpose(h))[:,:,0]\n",
        "\n",
        "        dwR = Ph*e ### only valid for 1-d output\n",
        "\n",
        "        return tf.transpose(dwR) \n",
        "\n",
        "    def __pseudogradient_P_Gx(self, P_Gx, h):\n",
        "        Ph = backend.dot(P_Gx, tf.transpose(h))[:,:,0]\n",
        "        hPh = tf.expand_dims(backend.dot(Ph, tf.transpose(h)),axis = 2)\n",
        "        htP = backend.dot(h, P_Gx)[0]\n",
        "        dP_Gx = tf.expand_dims(Ph, axis = 2) * tf.expand_dims(htP, axis = 1)/(1+hPh)\n",
        "        return dP_Gx\n",
        "\n",
        "#################### \n",
        "#new \n",
        "\n",
        "    # def __pseudogradient_wR(self, h, z, y):\n",
        "    #     e = z - y \n",
        "    #     assert e.shape == (1,1)\n",
        "    #     Pht = backend.dot(h, self.P_GG)[0] \n",
        "    #     dwR = e*Pht ### only valid for 1-d output\n",
        "\n",
        "    #     return dwR \n",
        "\n",
        "\n",
        "    # def __pseudogradient_P_Gx(self, P_Gx, h):\n",
        "    #    Pht = backend.dot(h, P_Gx)      # get 1 by j by i\n",
        "    #    hPht = backend.dot(h, Pht)      # get 1 by 1 by i\n",
        "    #    hP = tf.tensordot(h, P_Gx, axes = [[1],[0]]) # get 1 by k by i\n",
        "    #    #dP_Gx = tf.reshape(Pht, (self.units, 1, self.units)) * hP / (1 + hPht)\n",
        "    #    dP_Gx = tf.expand_dims(Pht[0], axis = 1) * hP / (1 + hPht)\n",
        "\n",
        "    #    return dP_Gx\n",
        "\n",
        "#################### \n",
        "\n",
        "    def compile(self, metrics, **kwargs):\n",
        "        super().compile(optimizer=keras.optimizers.SGD(learning_rate=1), loss = 'mae', metrics=metrics,   **kwargs)\n",
        "\n",
        "\n",
        "    def fit(self, x, y=None, epochs = 1, verbose = 'auto', **kwargs):\n",
        "\n",
        "        if len(x.shape) < 2 or len(x.shape) > 3:\n",
        "            raise ValueError('Shape of x is invalid')\n",
        "\n",
        "        if len(y.shape) < 2 or len(y.shape) > 3:\n",
        "            raise ValueError('Shape of y is invalid')\n",
        "        \n",
        "        if len(x.shape) == 2:\n",
        "            x = tf.expand_dims(x, axis = 0)\n",
        "        \n",
        "        if len(y.shape) == 2:\n",
        "            y = tf.expand_dims(y, axis = 0)\n",
        "        \n",
        "        if x.shape[0] != 1:\n",
        "            raise ValueError(\"Dim 0 of x must be 1\")\n",
        "\n",
        "        if y.shape[0] != 1:\n",
        "            raise ValueError(\"Dim 0 of y must be 1\")\n",
        "        \n",
        "        if x.shape[1] != y.shape[1]: \n",
        "            raise ValueError('Timestep dimension of inputs must match')     \n",
        "\n",
        "        return super().fit(x = x, y = y, epochs = epochs, batch_size = 1, verbose = verbose, **kwargs)\n",
        "\n",
        "    def predict(self, x, **kwargs):\n",
        "        if len(x.shape) == 3 and x.shape[0] != 1:\n",
        "            raise ValueError('Dim 0 must be 1')\n",
        "        \n",
        "        if len(x.shape) < 2 or len(x.shape) > 3:\n",
        "            raise ValueError('')\n",
        "\n",
        "        if len(x.shape) == 2:\n",
        "            x = tf.expand_dims(x, axis = 0)\n",
        "\n",
        "        return self(x, training = False)[0]"
      ],
      "execution_count": 10,
      "outputs": []
    },
    {
      "cell_type": "code",
      "metadata": {
        "id": "FOgXOO5M-nzz"
      },
      "source": [
        "class EchoStateNetwork(FORCELayer):\n",
        "    def __init__(self, dtdivtau, hscale = 0.25, initial_a = None, **kwargs):\n",
        "        self.dtdivtau = dtdivtau \n",
        "        self.hscale = hscale\n",
        "        self.__initial_a__ = initial_a\n",
        "        super().__init__(**kwargs)        \n",
        "\n",
        "    def call(self, inputs, states):\n",
        "        \"\"\"Implements the forward step (i.e., the esn() function)\n",
        "        \"\"\"\n",
        "        prev_a, prev_h, prev_output = states      \n",
        "        input_term = backend.dot(inputs, self.input_kernel)\n",
        "        recurrent_term = backend.dot(prev_h, self.recurrent_kernel)\n",
        "        feedback_term = backend.dot(prev_output, self.feedback_kernel)\n",
        "\n",
        "        dadt = -prev_a + input_term + recurrent_term + feedback_term \n",
        "        a = prev_a + self.dtdivtau * dadt\n",
        "        h = self.activation(a)\n",
        "        output = backend.dot(h, self.output_kernel)\n",
        "\n",
        "        return output, [a, h, output]\n",
        "\n",
        "    def get_initial_state(self, inputs=None, batch_size=None, dtype=None):\n",
        "\n",
        "        if self.__initial_a__ is not None:\n",
        "          init_a = self.__initial_a__\n",
        "        else:\n",
        "          initializer = keras.initializers.RandomNormal(mean=0., \n",
        "                                                        stddev= self.hscale , \n",
        "                                                        seed = self.__seed_gen__.uniform([1], \n",
        "                                                                                        minval=None, \n",
        "                                                                                        dtype=tf.dtypes.int64)[0])\n",
        "          init_a = initializer((batch_size, self.units))  \n",
        "\n",
        "        init_h =  self.activation(init_a)\n",
        "        init_out = backend.dot(init_h,self.output_kernel) \n",
        "\n",
        "        return (init_a, init_h, init_out)\n"
      ],
      "execution_count": 11,
      "outputs": []
    },
    {
      "cell_type": "code",
      "metadata": {
        "id": "yMIrvGqvUSfV"
      },
      "source": [
        "class NoFeedbackESN(EchoStateNetwork):\n",
        "\n",
        "    def __init__(self, recurrent_kernel_trainable  = True, **kwargs):\n",
        "        super().__init__(recurrent_kernel_trainable = recurrent_kernel_trainable, **kwargs)\n",
        "    \n",
        "    \n",
        "    def call(self, inputs, states):\n",
        "        \"\"\"Implements the forward step (i.e., the esn() function)\n",
        "        \"\"\"\n",
        "        prev_a, prev_h, prev_output = states      \n",
        "        input_term = backend.dot(inputs, self.input_kernel)\n",
        "        recurrent_term = backend.dot(prev_h, self.recurrent_kernel)\n",
        "\n",
        "        dadt = -prev_a + input_term + recurrent_term \n",
        "        a = prev_a + self.dtdivtau * dadt\n",
        "        h = self.activation(a)\n",
        "        output = backend.dot(h, self.output_kernel)\n",
        "\n",
        "        return output, [a, h, output]\n",
        "\n",
        "\n",
        "    def build(self, input_shape):\n",
        "\n",
        "        self.input_kernel = self.add_weight(shape=(input_shape[-1], self.units),\n",
        "          initializer=keras.initializers.RandomNormal(mean=0., \n",
        "                                                      stddev= 1/input_shape[-1]**0.5, \n",
        "                                                      seed=self.__seed_gen__.uniform([1], \n",
        "                                                                                 minval=None, \n",
        "                                                                                 dtype=tf.dtypes.int64)[0]),\n",
        "          trainable=self.__input_kernel_trainable__,\n",
        "          name='input_kernel')\n",
        " \n",
        "        self.recurrent_kernel = self.add_weight(\n",
        "          shape=(self.units, self.units),\n",
        "          initializer= keras.initializers.RandomNormal(mean=0., \n",
        "                                                       stddev= self.__g__/self.units**0.5, \n",
        "                                                       seed=self.__seed_gen__.uniform([1], \n",
        "                                                                                  minval=None, \n",
        "                                                                                  dtype=tf.dtypes.int64)[0]), \n",
        "          trainable=self.__recurrent_kernel_trainable__,\n",
        "          name='recurrent_kernel')\n",
        "        \n",
        "        self.output_kernel = self.add_weight(\n",
        "          shape=(self.units, self.output_size),\n",
        "          initializer=keras.initializers.RandomNormal(mean=0., \n",
        "                                                      stddev= 1/self.units**0.5, \n",
        "                                                      seed=self.__seed_gen__.uniform([1], \n",
        "                                                                                 minval=None, \n",
        "                                                                                 dtype=tf.dtypes.int64)[0]), \n",
        "          trainable=self.__output_kernel_trainable__,\n",
        "          name='output_kernel')      \n",
        "\n",
        "        self.built = True\n",
        "\n",
        "    @classmethod\n",
        "    def from_weights(cls, weights, **kwargs):\n",
        "        # Initialize the network from a list of weights (e.g., user-generated)\n",
        "        input_kernel, recurrent_kernel, output_kernel = weights \n",
        "        input_shape, input_units = input_kernel.shape \n",
        "        recurrent_units1, recurrent_units2 = recurrent_kernel.shape \n",
        "        output_units, output_size = output_kernel.shape \n",
        "\n",
        "\n",
        "        units = input_units \n",
        "        assert np.all(np.array([input_units, recurrent_units1, recurrent_units2, \n",
        "                            output_units]) == units)\n",
        "\n",
        "        self = cls(units=units, output_size=output_size, **kwargs)\n",
        "\n",
        "        self.input_kernel = self.add_weight(shape=(input_shape, self.units),\n",
        "                                      initializer=keras.initializers.constant(input_kernel),\n",
        "                                      trainable = self.__input_kernel_trainable__,\n",
        "                                      name='input_kernel')\n",
        "        \n",
        "        self.recurrent_kernel = self.add_weight(\n",
        "            shape=(self.units, self.units),\n",
        "            initializer=keras.initializers.constant(recurrent_kernel),\n",
        "            trainable = self.__recurrent_kernel_trainable__,\n",
        "            name='recurrent_kernel')\n",
        " \n",
        "        \n",
        "        self.output_kernel = self.add_weight(\n",
        "            shape=(self.units, self.output_size),\n",
        "            initializer=keras.initializers.constant(output_kernel),\n",
        "            trainable = self.__output_kernel_trainable__,\n",
        "            name='output_kernel')      \n",
        "\n",
        "        self.built = True\n",
        "\n",
        "        return self"
      ],
      "execution_count": 12,
      "outputs": []
    },
    {
      "cell_type": "markdown",
      "metadata": {
        "id": "kq8HRyNVQzgm"
      },
      "source": [
        ""
      ]
    },
    {
      "cell_type": "code",
      "metadata": {
        "id": "YdX7x2wFYfoS"
      },
      "source": [
        "# Original\n",
        "# class EarlyStoppingByLossVal(keras.callbacks.Callback):\n",
        "#     def __init__(self, monitor='val_loss', value=0.00001, verbose=0):\n",
        "#         super().__init__()\n",
        "#         self.monitor = monitor\n",
        "#         self.value = value\n",
        "#         self.verbose = verbose\n",
        "\n",
        "#     def on_epoch_end(self, epoch, logs={}):\n",
        "#         current = logs.get(self.monitor)\n",
        "#         if current is None:\n",
        "#             warnings.warn(\"Early stopping requires %s available!\" % self.monitor, RuntimeWarning)\n",
        "\n",
        "#         if current < self.value:\n",
        "#             if self.verbose > 0:\n",
        "#                 print(\"Epoch %05d: early stopping THR\" % epoch)\n",
        "#             self.model.stop_training = True"
      ],
      "execution_count": 13,
      "outputs": []
    },
    {
      "cell_type": "code",
      "metadata": {
        "id": "rC_pE1iGaUZ7"
      },
      "source": [
        "# class EarlyStoppingByVal(keras.callbacks.Callback):\n",
        "#     def __init__(self, monitor='mae', thresh = 0.00001, value=0.00001, total_epoch = 7, verbose=0):\n",
        "#         super().__init__()\n",
        "#         self.monitor = monitor\n",
        "#         self.value = value\n",
        "#         self.verbose = verbose\n",
        "#         self.tracking = []\n",
        "#         self.total = 0\n",
        "#         self.total_epoch = total_epoch\n",
        "#         self.thresh = thresh\n",
        "\n",
        "#     def on_epoch_end(self, epoch, logs={}):\n",
        "#         current = logs.get(self.monitor)\n",
        "\n",
        "#         if current is None:\n",
        "#             warnings.warn(\"Early stopping requires %s available!\" % self.monitor, RuntimeWarning)\n",
        "        \n",
        "#         temp = (current < self.value)\n",
        "#         self.tracking.append(temp)\n",
        "#         self.total += temp\n",
        "\n",
        "#         if len(self.tracking) > self.total_epoch:\n",
        "#           self.total -= self.tracking.pop(0)\n",
        "        \n",
        "#         if self.total == self.total_epoch and current < self.thresh:\n",
        "#             if self.verbose > 0:\n",
        "#                 print(\"Epoch %05d: early stopping THR\" % epoch)\n",
        "#             self.model.stop_training = True"
      ],
      "execution_count": 14,
      "outputs": []
    },
    {
      "cell_type": "code",
      "metadata": {
        "id": "yKI_71S8narL"
      },
      "source": [
        "myesn = NoFeedbackESN( dtdivtau= dtdivtau, units = n, \n",
        "                          output_size = m, activation = 'tanh')\n",
        "\n",
        "# myesn = EchoStateNetwork.from_weights(dtdivtau=dtdivtau, \n",
        "#                                       initial_a = a0,\n",
        "#                                       weights = (wI, wR, wF, wO), \n",
        "#                                       activation = 'tanh' )\n",
        "\n",
        "model = FORCEModel(myesn, return_sequences=True)  \n",
        "model.compile(metrics=[\"mae\"], run_eagerly = False)\n",
        " \n",
        "# early_stopping = EarlyStoppingByVal(monitor='mae', thresh = 0.01, value=0.02, total_epoch = 500, verbose=1)\n",
        "# model_chkpt = keras.callbacks.ModelCheckpoint(\n",
        "#     'saved_model.h5',\n",
        "#     monitor='mae',\n",
        "#     mode='min',\n",
        "#     verbose = 1,\n",
        "#     save_weights_only = True, \n",
        "#     save_best_only=True)\n"
      ],
      "execution_count": 15,
      "outputs": []
    },
    {
      "cell_type": "code",
      "metadata": {
        "colab": {
          "base_uri": "https://localhost:8080/"
        },
        "id": "MD3tnJ1bnaud",
        "outputId": "2d640938-5139-4ab9-b6d6-a01edf29a3c5"
      },
      "source": [
        "history = model.fit(x=input1 , y= f_t_1, epochs = 100) #, callbacks=[early_stopping]) #callbacks=[early_stopping, model_chkpt])"
      ],
      "execution_count": 16,
      "outputs": [
        {
          "output_type": "stream",
          "text": [
            "Epoch 1/100\n",
            "1/1 [==============================] - 347s 347s/step - mae: 0.2681\n",
            "Epoch 2/100\n",
            "1/1 [==============================] - 37s 37s/step - mae: 0.2525\n",
            "Epoch 3/100\n",
            "1/1 [==============================] - 37s 37s/step - mae: 0.2626\n",
            "Epoch 4/100\n",
            "1/1 [==============================] - 37s 37s/step - mae: 0.2142\n",
            "Epoch 5/100\n",
            "1/1 [==============================] - 38s 38s/step - mae: 0.2231\n",
            "Epoch 6/100\n",
            "1/1 [==============================] - 38s 38s/step - mae: 0.2195\n",
            "Epoch 7/100\n",
            "1/1 [==============================] - 38s 38s/step - mae: 0.1849\n",
            "Epoch 8/100\n",
            "1/1 [==============================] - 38s 38s/step - mae: 0.1623\n",
            "Epoch 9/100\n",
            "1/1 [==============================] - 38s 38s/step - mae: 0.1514\n",
            "Epoch 10/100\n",
            "1/1 [==============================] - 37s 37s/step - mae: 0.1448\n",
            "Epoch 11/100\n",
            "1/1 [==============================] - 38s 38s/step - mae: 0.1392\n",
            "Epoch 12/100\n",
            "1/1 [==============================] - 37s 37s/step - mae: 0.1344\n",
            "Epoch 13/100\n",
            "1/1 [==============================] - 38s 38s/step - mae: 0.1305\n",
            "Epoch 14/100\n",
            "1/1 [==============================] - 38s 38s/step - mae: 0.1300\n",
            "Epoch 15/100\n",
            "1/1 [==============================] - 37s 37s/step - mae: 0.1375\n",
            "Epoch 16/100\n",
            "1/1 [==============================] - 37s 37s/step - mae: 0.1450\n",
            "Epoch 17/100\n",
            "1/1 [==============================] - 37s 37s/step - mae: 0.1437\n",
            "Epoch 18/100\n",
            "1/1 [==============================] - 37s 37s/step - mae: 0.2554\n",
            "Epoch 19/100\n",
            "1/1 [==============================] - 37s 37s/step - mae: 0.1954\n",
            "Epoch 20/100\n",
            "1/1 [==============================] - 37s 37s/step - mae: 0.1830\n",
            "Epoch 21/100\n",
            "1/1 [==============================] - 38s 38s/step - mae: 0.1389\n",
            "Epoch 22/100\n",
            "1/1 [==============================] - 38s 38s/step - mae: 0.2739\n",
            "Epoch 23/100\n",
            "1/1 [==============================] - 38s 38s/step - mae: 0.1632\n",
            "Epoch 24/100\n",
            "1/1 [==============================] - 37s 37s/step - mae: 0.1305\n",
            "Epoch 25/100\n",
            "1/1 [==============================] - 37s 37s/step - mae: 0.1274\n",
            "Epoch 26/100\n",
            "1/1 [==============================] - 37s 37s/step - mae: 0.1280\n",
            "Epoch 27/100\n",
            "1/1 [==============================] - 37s 37s/step - mae: 0.1277\n",
            "Epoch 28/100\n",
            "1/1 [==============================] - 37s 37s/step - mae: 0.1281\n",
            "Epoch 29/100\n",
            "1/1 [==============================] - 37s 37s/step - mae: 0.1311\n",
            "Epoch 30/100\n",
            "1/1 [==============================] - 37s 37s/step - mae: 0.1344\n",
            "Epoch 31/100\n",
            "1/1 [==============================] - 37s 37s/step - mae: 0.1343\n",
            "Epoch 32/100\n",
            "1/1 [==============================] - 37s 37s/step - mae: 0.1310\n",
            "Epoch 33/100\n",
            "1/1 [==============================] - 37s 37s/step - mae: 0.1252\n",
            "Epoch 34/100\n",
            "1/1 [==============================] - 37s 37s/step - mae: 0.1189\n",
            "Epoch 35/100\n",
            "1/1 [==============================] - 37s 37s/step - mae: 0.1134\n",
            "Epoch 36/100\n",
            "1/1 [==============================] - 37s 37s/step - mae: 0.1086\n",
            "Epoch 37/100\n",
            "1/1 [==============================] - 37s 37s/step - mae: 0.1063\n",
            "Epoch 38/100\n",
            "1/1 [==============================] - 37s 37s/step - mae: 0.1053\n",
            "Epoch 39/100\n",
            "1/1 [==============================] - 37s 37s/step - mae: 0.1047\n",
            "Epoch 40/100\n",
            "1/1 [==============================] - 37s 37s/step - mae: 0.1042\n",
            "Epoch 41/100\n",
            "1/1 [==============================] - 37s 37s/step - mae: 0.1032\n",
            "Epoch 42/100\n",
            "1/1 [==============================] - 37s 37s/step - mae: 0.1027\n",
            "Epoch 43/100\n",
            "1/1 [==============================] - 37s 37s/step - mae: 0.1028\n",
            "Epoch 44/100\n",
            "1/1 [==============================] - 37s 37s/step - mae: 0.1021\n",
            "Epoch 45/100\n",
            "1/1 [==============================] - 37s 37s/step - mae: 0.1014\n",
            "Epoch 46/100\n",
            "1/1 [==============================] - 37s 37s/step - mae: 0.1021\n",
            "Epoch 47/100\n",
            "1/1 [==============================] - 38s 38s/step - mae: 0.1021\n",
            "Epoch 48/100\n",
            "1/1 [==============================] - 37s 37s/step - mae: 0.1016\n",
            "Epoch 49/100\n",
            "1/1 [==============================] - 37s 37s/step - mae: 0.1025\n",
            "Epoch 50/100\n",
            "1/1 [==============================] - 37s 37s/step - mae: 0.0988\n",
            "Epoch 51/100\n",
            "1/1 [==============================] - 37s 37s/step - mae: 0.1195\n",
            "Epoch 52/100\n",
            "1/1 [==============================] - 37s 37s/step - mae: 0.1418\n",
            "Epoch 53/100\n",
            "1/1 [==============================] - 37s 37s/step - mae: 0.1605\n",
            "Epoch 54/100\n",
            "1/1 [==============================] - 38s 38s/step - mae: 0.1088\n",
            "Epoch 55/100\n",
            "1/1 [==============================] - 38s 38s/step - mae: 0.1207\n",
            "Epoch 56/100\n",
            "1/1 [==============================] - 37s 37s/step - mae: 0.1101\n",
            "Epoch 57/100\n",
            "1/1 [==============================] - 37s 37s/step - mae: 0.0972\n",
            "Epoch 58/100\n",
            "1/1 [==============================] - 37s 37s/step - mae: 0.1103\n",
            "Epoch 59/100\n",
            "1/1 [==============================] - 37s 37s/step - mae: 0.1076\n",
            "Epoch 60/100\n",
            "1/1 [==============================] - 37s 37s/step - mae: 0.1171\n",
            "Epoch 61/100\n",
            "1/1 [==============================] - 37s 37s/step - mae: 0.1367\n",
            "Epoch 62/100\n",
            "1/1 [==============================] - 37s 37s/step - mae: 0.1132\n",
            "Epoch 63/100\n",
            "1/1 [==============================] - 38s 38s/step - mae: 0.1213\n",
            "Epoch 64/100\n",
            "1/1 [==============================] - 38s 38s/step - mae: 0.0978\n",
            "Epoch 65/100\n",
            "1/1 [==============================] - 38s 38s/step - mae: 0.0948\n",
            "Epoch 66/100\n",
            "1/1 [==============================] - 38s 38s/step - mae: 0.1008\n",
            "Epoch 67/100\n",
            "1/1 [==============================] - 37s 37s/step - mae: 0.1112\n",
            "Epoch 68/100\n",
            "1/1 [==============================] - 37s 37s/step - mae: 0.1588\n",
            "Epoch 69/100\n",
            "1/1 [==============================] - 37s 37s/step - mae: 0.1036\n",
            "Epoch 70/100\n",
            "1/1 [==============================] - 37s 37s/step - mae: 0.1156\n",
            "Epoch 71/100\n",
            "1/1 [==============================] - 37s 37s/step - mae: 0.1170\n",
            "Epoch 72/100\n",
            "1/1 [==============================] - 37s 37s/step - mae: 0.0986\n",
            "Epoch 73/100\n",
            "1/1 [==============================] - 38s 38s/step - mae: 0.0960\n",
            "Epoch 74/100\n",
            "1/1 [==============================] - 37s 37s/step - mae: 0.1018\n",
            "Epoch 75/100\n",
            "1/1 [==============================] - 37s 37s/step - mae: 0.0949\n",
            "Epoch 76/100\n",
            "1/1 [==============================] - 37s 37s/step - mae: 0.1003\n",
            "Epoch 77/100\n",
            "1/1 [==============================] - 37s 37s/step - mae: 0.1002\n",
            "Epoch 78/100\n",
            "1/1 [==============================] - 38s 38s/step - mae: 0.0951\n",
            "Epoch 79/100\n",
            "1/1 [==============================] - 38s 38s/step - mae: 0.0967\n",
            "Epoch 80/100\n",
            "1/1 [==============================] - 38s 38s/step - mae: 0.1279\n",
            "Epoch 81/100\n",
            "1/1 [==============================] - 37s 37s/step - mae: 0.1495\n",
            "Epoch 82/100\n",
            "1/1 [==============================] - 37s 37s/step - mae: 0.0909\n",
            "Epoch 83/100\n",
            "1/1 [==============================] - 37s 37s/step - mae: 0.1012\n",
            "Epoch 84/100\n",
            "1/1 [==============================] - 37s 37s/step - mae: 0.2052\n",
            "Epoch 85/100\n",
            "1/1 [==============================] - 38s 38s/step - mae: 0.1431\n",
            "Epoch 86/100\n",
            "1/1 [==============================] - 37s 37s/step - mae: 0.1100\n",
            "Epoch 87/100\n",
            "1/1 [==============================] - 37s 37s/step - mae: 0.0984\n",
            "Epoch 88/100\n",
            "1/1 [==============================] - 37s 37s/step - mae: 0.0974\n",
            "Epoch 89/100\n",
            "1/1 [==============================] - 37s 37s/step - mae: 0.0970\n",
            "Epoch 90/100\n",
            "1/1 [==============================] - 37s 37s/step - mae: 0.0963\n",
            "Epoch 91/100\n",
            "1/1 [==============================] - 37s 37s/step - mae: 0.0953\n",
            "Epoch 92/100\n",
            "1/1 [==============================] - 38s 38s/step - mae: 0.0933\n",
            "Epoch 93/100\n",
            "1/1 [==============================] - 37s 37s/step - mae: 0.0914\n",
            "Epoch 94/100\n",
            "1/1 [==============================] - 38s 38s/step - mae: 0.0905\n",
            "Epoch 95/100\n",
            "1/1 [==============================] - 37s 37s/step - mae: 0.0901\n",
            "Epoch 96/100\n",
            "1/1 [==============================] - 37s 37s/step - mae: 0.0909\n",
            "Epoch 97/100\n",
            "1/1 [==============================] - 37s 37s/step - mae: 0.0924\n",
            "Epoch 98/100\n",
            "1/1 [==============================] - 37s 37s/step - mae: 0.0933\n",
            "Epoch 99/100\n",
            "1/1 [==============================] - 37s 37s/step - mae: 0.0913\n",
            "Epoch 100/100\n",
            "1/1 [==============================] - 37s 37s/step - mae: 0.0953\n"
          ],
          "name": "stdout"
        }
      ]
    },
    {
      "cell_type": "code",
      "metadata": {
        "id": "6VHT8ZzTJ2Gr"
      },
      "source": [
        "#model.load_weights('/content/saved_model.h5')"
      ],
      "execution_count": 17,
      "outputs": []
    },
    {
      "cell_type": "code",
      "metadata": {
        "id": "BdZ9D2eynaxl"
      },
      "source": [
        "z_t_call = model.predict(input1)"
      ],
      "execution_count": 18,
      "outputs": []
    },
    {
      "cell_type": "code",
      "metadata": {
        "id": "CwNzwhaQKeUX",
        "colab": {
          "base_uri": "https://localhost:8080/"
        },
        "outputId": "9a5ec202-b4e3-48ae-a143-3022a49b58f2"
      },
      "source": [
        "np.mean(np.abs(z_t_call - f_t_1))"
      ],
      "execution_count": 19,
      "outputs": [
        {
          "output_type": "execute_result",
          "data": {
            "text/plain": [
              "0.094635636"
            ]
          },
          "metadata": {
            "tags": []
          },
          "execution_count": 19
        }
      ]
    },
    {
      "cell_type": "code",
      "metadata": {
        "id": "ehJquVbikeLX",
        "colab": {
          "base_uri": "https://localhost:8080/"
        },
        "outputId": "f15dd72e-e553-43c1-f1bd-66ecbbffefbd"
      },
      "source": [
        "z_t_call.shape"
      ],
      "execution_count": 20,
      "outputs": [
        {
          "output_type": "execute_result",
          "data": {
            "text/plain": [
              "TensorShape([600, 1])"
            ]
          },
          "metadata": {
            "tags": []
          },
          "execution_count": 20
        }
      ]
    },
    {
      "cell_type": "code",
      "metadata": {
        "id": "7ZFsALNAna3Y",
        "colab": {
          "base_uri": "https://localhost:8080/",
          "height": 421
        },
        "outputId": "8cfb5cf6-1571-4050-efca-04d73a43ab8f"
      },
      "source": [
        "fig, (ax1, ax2) = plt.subplots(1, 2, sharey = True, figsize=(24,6))\n",
        "\n",
        "\n",
        "ax1.plot(time , f_t_1  + 2*np.arange(0, f_t_1.shape[1]), 'g')\n",
        "ax1.plot(time , z_t_call + 2*np.arange(0, z_t_call.shape[1]), 'r');\n",
        " \n",
        "ax1.set_xlim((0, T))\n",
        "plt.title('Target - f (green), Output - z (red)')\n",
        "ax1.set_xlabel('Time')\n",
        "ax1.set_ylabel('Dimension')\n",
        "\n",
        "ax2.plot(time, tf.math.abs(f_t_1-z_t_call) + 2*np.arange(0, z_t_call.shape[1]), 'r');\n",
        "ax2.set_xlim((0, T))\n",
        "plt.title('MAE')\n",
        "ax2.set_xlabel('Time')\n",
        "ax2.set_ylabel('Dimension')"
      ],
      "execution_count": 21,
      "outputs": [
        {
          "output_type": "execute_result",
          "data": {
            "text/plain": [
              "Text(0, 0.5, 'Dimension')"
            ]
          },
          "metadata": {
            "tags": []
          },
          "execution_count": 21
        },
        {
          "output_type": "display_data",
          "data": {
            "image/png": "[encoded data removed]",
            "text/plain": [
              "<Figure size 1728x432 with 2 Axes>"
            ]
          },
          "metadata": {
            "tags": [],
            "needs_background": "light"
          }
        }
      ]
    },
    {
      "cell_type": "code",
      "metadata": {
        "id": "aKYtVnJmxmuG",
        "colab": {
          "base_uri": "https://localhost:8080/",
          "height": 550
        },
        "outputId": "b7d7a8da-3198-4b26-c67b-43e083f20b9e"
      },
      "source": [
        "plt.figure(figsize=(12,8), dpi=80)\n",
        "plt.plot(history.history['mae'])"
      ],
      "execution_count": 22,
      "outputs": [
        {
          "output_type": "execute_result",
          "data": {
            "text/plain": [
              "[<matplotlib.lines.Line2D at 0x7f0dd406ab90>]"
            ]
          },
          "metadata": {
            "tags": []
          },
          "execution_count": 22
        },
        {
          "output_type": "display_data",
          "data": {
            "image/png": "[encoded data removed]",
            "text/plain": [
              "<Figure size 960x640 with 1 Axes>"
            ]
          },
          "metadata": {
            "tags": [],
            "needs_background": "light"
          }
        }
      ]
    },
    {
      "cell_type": "code",
      "metadata": {
        "id": "RKmLrPlQvmLn",
        "colab": {
          "base_uri": "https://localhost:8080/"
        },
        "outputId": "d9f0dceb-b386-4c86-883d-326aa41eda48"
      },
      "source": [
        "import gc\n",
        "gc.collect()"
      ],
      "execution_count": 23,
      "outputs": [
        {
          "output_type": "execute_result",
          "data": {
            "text/plain": [
              "848"
            ]
          },
          "metadata": {
            "tags": []
          },
          "execution_count": 23
        }
      ]
    },
    {
      "cell_type": "code",
      "metadata": {
        "id": "jPOBjWwwoktn"
      },
      "source": [
        "x_t_2 = np.zeros((ntime,u)) # Just a stand-in in folks want a real input later\n",
        "indices = np.random.choice(x_t_2.shape[0] *x_t_2.shape[1], replace=False,\n",
        "                           size=int(x_t_2.shape[0] *x_t_2.shape[1] * 0.025))\n",
        "x_t_2[np.unravel_index(indices, x_t_2.shape)] = 0.375\n",
        "\n",
        "for i in range(x_t_2.shape[0]):\n",
        "  if np.sum(x_t_2[i-10:i,:]) > 0:\n",
        "    x_t_2[i,:] = 0\n",
        "\n",
        "input2 = tf.cast(tf.expand_dims(x_t_2,0),np.float32)"
      ],
      "execution_count": 24,
      "outputs": []
    },
    {
      "cell_type": "code",
      "metadata": {
        "id": "lcDPUnDjouID"
      },
      "source": [
        "z_t_call_2 = model.predict(input2)"
      ],
      "execution_count": 25,
      "outputs": []
    },
    {
      "cell_type": "code",
      "metadata": {
        "id": "AIdt71i5qDb_"
      },
      "source": [
        "f_t_2 = np.zeros((x_t_2.shape[0],1))-1\n",
        "\n",
        "f_t_2 =  func(f_t_2, x_t_2) \n",
        "f_t_2[:,0] = butter_lowpass_filter(f_t_2[:,0], cutoff, fs, order)\n",
        "f_t_2 = tf.cast(f_t_2,np.float32)"
      ],
      "execution_count": 26,
      "outputs": []
    },
    {
      "cell_type": "code",
      "metadata": {
        "id": "7JBt7xavpU98",
        "colab": {
          "base_uri": "https://localhost:8080/",
          "height": 391
        },
        "outputId": "61b90fd2-79ec-4550-cd16-eb0552b2a391"
      },
      "source": [
        "f, (ax0, ax1, ax2) = plt.subplots(nrows = 3, sharex = True,figsize = (18,6))\n",
        "\n",
        "ax0.plot(z_t_call_2[:,0])\n",
        "ax0.plot(f_t_2[:,0])\n",
        "ax1.plot(x_t_2[:,0])\n",
        "ax2.plot(x_t_2[:,1])"
      ],
      "execution_count": 27,
      "outputs": [
        {
          "output_type": "execute_result",
          "data": {
            "text/plain": [
              "[<matplotlib.lines.Line2D at 0x7f0dd3fe9450>]"
            ]
          },
          "metadata": {
            "tags": []
          },
          "execution_count": 27
        },
        {
          "output_type": "display_data",
          "data": {
            "image/png": "[encoded data removed]",
            "text/plain": [
              "<Figure size 1296x432 with 3 Axes>"
            ]
          },
          "metadata": {
            "tags": [],
            "needs_background": "light"
          }
        }
      ]
    }
  ]
}